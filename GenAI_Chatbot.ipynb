{
  "nbformat": 4,
  "nbformat_minor": 0,
  "metadata": {
    "colab": {
      "provenance": [],
      "gpuType": "T4"
    },
    "kernelspec": {
      "name": "python3",
      "display_name": "Python 3"
    },
    "language_info": {
      "name": "python"
    },
    "accelerator": "GPU"
  },
  "cells": [
    {
      "cell_type": "markdown",
      "source": [
        "# **GenerativeAI-Chatbot**"
      ],
      "metadata": {
        "id": "yP1WETVuQ5OO"
      }
    },
    {
      "cell_type": "markdown",
      "source": [
        "# import libraries"
      ],
      "metadata": {
        "id": "xPXjGTx-RC3l"
      }
    },
    {
      "cell_type": "code",
      "execution_count": 7,
      "metadata": {
        "id": "4DvdxBk43Olq"
      },
      "outputs": [],
      "source": [
        "# !pip install gradio\n",
        "# !pip install groq\n",
        "import os\n",
        "import gradio as gr\n",
        "from groq import Groq"
      ]
    },
    {
      "cell_type": "markdown",
      "source": [
        "# api-key secret colab"
      ],
      "metadata": {
        "id": "wJQM_mVgRIj9"
      }
    },
    {
      "cell_type": "code",
      "source": [
        "# Colab's secure key storage\n",
        "\n",
        "from google.colab import userdata"
      ],
      "metadata": {
        "id": "1tGqR8W5Acq9"
      },
      "execution_count": 11,
      "outputs": []
    },
    {
      "cell_type": "markdown",
      "source": [
        "# Code\n"
      ],
      "metadata": {
        "id": "vPhhfSi6ROot"
      }
    },
    {
      "cell_type": "code",
      "source": [
        "\n",
        "# Retrieve secret API key securely from Colab\n",
        "os.environ[\"GROQ_API_KEY\"] = userdata.get(\"GenAi-Chatbot-API\")\n",
        "\n",
        "# Initialize the Groq client\n",
        "client = Groq(api_key=os.environ.get(\"GROQ_API_KEY\"))\n",
        "\n",
        "# Function to interact with Groq API\n",
        "def chat_with_groq(user_message):\n",
        "    chat_completion = client.chat.completions.create(\n",
        "        messages=[\n",
        "            {\"role\": \"system\", \"content\": \"Format your response using headings when applicable.\"},\n",
        "            {\"role\": \"user\", \"content\": user_message}\n",
        "        ],\n",
        "        model=\"llama3-70b-8192\",\n",
        "        stream=False\n",
        "    )\n",
        "    return chat_completion.choices[0].message.content\n",
        "\n",
        "# Gradio Blocks layout\n",
        "with gr.Blocks() as iface:\n",
        "    gr.HTML(\"<div style='text-align: center; margin-top: 30px; font-weight: bold; font-size: 32px;'>GenAI-ChatBot</div>\")\n",
        "\n",
        "    gr.Markdown(\"### Developer: M. Shahjhan Gondal  \\n📧 shahjhangondal99@gmail.com\")\n",
        "\n",
        "    user_input = gr.Textbox(label=\"Enter your message\", placeholder=\"Type your question here...\")\n",
        "\n",
        "    with gr.Row():\n",
        "        submit_btn = gr.Button(\"Submit\", variant=\"primary\")\n",
        "        clear_btn = gr.Button(\"Clear\")\n",
        "\n",
        "    output = gr.Textbox(label=\"Chatbot Response\")\n",
        "\n",
        "    # Events\n",
        "    submit_btn.click(fn=chat_with_groq, inputs=user_input, outputs=output)\n",
        "    clear_btn.click(fn=lambda: (\"\", \"\"), inputs=None, outputs=[user_input, output])\n",
        "\n",
        "    gr.HTML(\"<div style='text-align: center; margin-top: 30px; font-weight: bold;'>AI chatbot using by Groq API...</div>\")\n",
        "\n",
        "# Launch app\n",
        "iface.launch()\n"
      ],
      "metadata": {
        "colab": {
          "base_uri": "https://localhost:8080/",
          "height": 646
        },
        "id": "Zc1MjCklAHfI",
        "outputId": "d1b8e676-c728-431b-b88d-fe569f81deb2"
      },
      "execution_count": 41,
      "outputs": [
        {
          "output_type": "stream",
          "name": "stdout",
          "text": [
            "It looks like you are running Gradio on a hosted a Jupyter notebook. For the Gradio app to work, sharing must be enabled. Automatically setting `share=True` (you can turn this off by setting `share=False` in `launch()` explicitly).\n",
            "\n",
            "Colab notebook detected. To show errors in colab notebook, set debug=True in launch()\n",
            "* Running on public URL: https://4165dddaf55ad32968.gradio.live\n",
            "\n",
            "This share link expires in 1 week. For free permanent hosting and GPU upgrades, run `gradio deploy` from the terminal in the working directory to deploy to Hugging Face Spaces (https://huggingface.co/spaces)\n"
          ]
        },
        {
          "output_type": "display_data",
          "data": {
            "text/plain": [
              "<IPython.core.display.HTML object>"
            ],
            "text/html": [
              "<div><iframe src=\"https://4165dddaf55ad32968.gradio.live\" width=\"100%\" height=\"500\" allow=\"autoplay; camera; microphone; clipboard-read; clipboard-write;\" frameborder=\"0\" allowfullscreen></iframe></div>"
            ]
          },
          "metadata": {}
        },
        {
          "output_type": "execute_result",
          "data": {
            "text/plain": []
          },
          "metadata": {},
          "execution_count": 41
        }
      ]
    },
    {
      "cell_type": "code",
      "source": [
        "from google.colab import files\n",
        "files.download(\"GenAI-Chatbot.ipynb\")  # or .py, .txt, etc.\n"
      ],
      "metadata": {
        "colab": {
          "base_uri": "https://localhost:8080/",
          "height": 280
        },
        "id": "D749bB4obWGH",
        "outputId": "6d017521-b312-4be9-97c7-aefb4eebb593"
      },
      "execution_count": 42,
      "outputs": [
        {
          "output_type": "error",
          "ename": "FileNotFoundError",
          "evalue": "Cannot find file: GenAI-Chatbot.ipynb",
          "traceback": [
            "\u001b[0;31m---------------------------------------------------------------------------\u001b[0m",
            "\u001b[0;31mFileNotFoundError\u001b[0m                         Traceback (most recent call last)",
            "\u001b[0;32m<ipython-input-42-8d83da3ce37e>\u001b[0m in \u001b[0;36m<cell line: 0>\u001b[0;34m()\u001b[0m\n\u001b[1;32m      1\u001b[0m \u001b[0;32mfrom\u001b[0m \u001b[0mgoogle\u001b[0m\u001b[0;34m.\u001b[0m\u001b[0mcolab\u001b[0m \u001b[0;32mimport\u001b[0m \u001b[0mfiles\u001b[0m\u001b[0;34m\u001b[0m\u001b[0;34m\u001b[0m\u001b[0m\n\u001b[0;32m----> 2\u001b[0;31m \u001b[0mfiles\u001b[0m\u001b[0;34m.\u001b[0m\u001b[0mdownload\u001b[0m\u001b[0;34m(\u001b[0m\u001b[0;34m\"GenAI-Chatbot.ipynb\"\u001b[0m\u001b[0;34m)\u001b[0m  \u001b[0;31m# or .py, .txt, etc.\u001b[0m\u001b[0;34m\u001b[0m\u001b[0;34m\u001b[0m\u001b[0m\n\u001b[0m",
            "\u001b[0;32m/usr/local/lib/python3.11/dist-packages/google/colab/files.py\u001b[0m in \u001b[0;36mdownload\u001b[0;34m(filename)\u001b[0m\n\u001b[1;32m    231\u001b[0m   \u001b[0;32mif\u001b[0m \u001b[0;32mnot\u001b[0m \u001b[0m_os\u001b[0m\u001b[0;34m.\u001b[0m\u001b[0mpath\u001b[0m\u001b[0;34m.\u001b[0m\u001b[0mexists\u001b[0m\u001b[0;34m(\u001b[0m\u001b[0mfilename\u001b[0m\u001b[0;34m)\u001b[0m\u001b[0;34m:\u001b[0m\u001b[0;34m\u001b[0m\u001b[0;34m\u001b[0m\u001b[0m\n\u001b[1;32m    232\u001b[0m     \u001b[0mmsg\u001b[0m \u001b[0;34m=\u001b[0m \u001b[0;34m'Cannot find file: {}'\u001b[0m\u001b[0;34m.\u001b[0m\u001b[0mformat\u001b[0m\u001b[0;34m(\u001b[0m\u001b[0mfilename\u001b[0m\u001b[0;34m)\u001b[0m\u001b[0;34m\u001b[0m\u001b[0;34m\u001b[0m\u001b[0m\n\u001b[0;32m--> 233\u001b[0;31m     \u001b[0;32mraise\u001b[0m \u001b[0mFileNotFoundError\u001b[0m\u001b[0;34m(\u001b[0m\u001b[0mmsg\u001b[0m\u001b[0;34m)\u001b[0m  \u001b[0;31m# pylint: disable=undefined-variable\u001b[0m\u001b[0;34m\u001b[0m\u001b[0;34m\u001b[0m\u001b[0m\n\u001b[0m\u001b[1;32m    234\u001b[0m \u001b[0;34m\u001b[0m\u001b[0m\n\u001b[1;32m    235\u001b[0m   \u001b[0mcomm_manager\u001b[0m \u001b[0;34m=\u001b[0m \u001b[0m_IPython\u001b[0m\u001b[0;34m.\u001b[0m\u001b[0mget_ipython\u001b[0m\u001b[0;34m(\u001b[0m\u001b[0;34m)\u001b[0m\u001b[0;34m.\u001b[0m\u001b[0mkernel\u001b[0m\u001b[0;34m.\u001b[0m\u001b[0mcomm_manager\u001b[0m\u001b[0;34m\u001b[0m\u001b[0;34m\u001b[0m\u001b[0m\n",
            "\u001b[0;31mFileNotFoundError\u001b[0m: Cannot find file: GenAI-Chatbot.ipynb"
          ]
        }
      ]
    }
  ]
}
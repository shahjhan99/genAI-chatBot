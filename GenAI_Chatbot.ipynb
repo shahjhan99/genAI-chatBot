{
  "cells": [
    {
      "cell_type": "markdown",
      "metadata": {
        "id": "yP1WETVuQ5OO"
      },
      "source": [
        "# **GenerativeAI-Chatbot**"
      ]
    },
    {
      "cell_type": "markdown",
      "metadata": {
        "id": "xPXjGTx-RC3l"
      },
      "source": [
        "# import libraries"
      ]
    },
    {
      "cell_type": "code",
      "execution_count": 7,
      "metadata": {
        "id": "4DvdxBk43Olq"
      },
      "outputs": [],
      "source": [
        "# !pip install gradio\n",
        "# !pip install groq\n",
        "import os\n",
        "import gradio as gr\n",
        "from groq import Groq"
      ]
    },
    {
      "cell_type": "markdown",
      "metadata": {
        "id": "wJQM_mVgRIj9"
      },
      "source": [
        "# api-key secret colab"
      ]
    },
    {
      "cell_type": "code",
      "execution_count": 11,
      "metadata": {
        "id": "1tGqR8W5Acq9"
      },
      "outputs": [],
      "source": [
        "# Colab's secure key storage\n",
        "\n",
        "from google.colab import userdata"
      ]
    },
    {
      "cell_type": "markdown",
      "metadata": {
        "id": "vPhhfSi6ROot"
      },
      "source": [
        "# Code\n"
      ]
    },
    {
      "cell_type": "code",
      "execution_count": 41,
      "metadata": {
        "colab": {
          "base_uri": "https://localhost:8080/",
          "height": 646
        },
        "id": "Zc1MjCklAHfI",
        "outputId": "d1b8e676-c728-431b-b88d-fe569f81deb2"
      },
      "outputs": [
        {
          "name": "stdout",
          "output_type": "stream",
          "text": [
            "It looks like you are running Gradio on a hosted a Jupyter notebook. For the Gradio app to work, sharing must be enabled. Automatically setting `share=True` (you can turn this off by setting `share=False` in `launch()` explicitly).\n",
            "\n",
            "Colab notebook detected. To show errors in colab notebook, set debug=True in launch()\n",
            "* Running on public URL: https://4165dddaf55ad32968.gradio.live\n",
            "\n",
            "This share link expires in 1 week. For free permanent hosting and GPU upgrades, run `gradio deploy` from the terminal in the working directory to deploy to Hugging Face Spaces (https://huggingface.co/spaces)\n"
          ]
        },
        {
          "data": {
            "text/html": [
              "<div><iframe src=\"https://4165dddaf55ad32968.gradio.live\" width=\"100%\" height=\"500\" allow=\"autoplay; camera; microphone; clipboard-read; clipboard-write;\" frameborder=\"0\" allowfullscreen></iframe></div>"
            ],
            "text/plain": [
              "<IPython.core.display.HTML object>"
            ]
          },
          "metadata": {},
          "output_type": "display_data"
        },
        {
          "data": {
            "text/plain": []
          },
          "execution_count": 41,
          "metadata": {},
          "output_type": "execute_result"
        }
      ],
      "source": [
        "\n",
        "# Retrieve secret API key securely from Colab\n",
        "os.environ[\"GROQ_API_KEY\"] = userdata.get(\"GenAi-Chatbot-API\")\n",
        "\n",
        "# Initialize the Groq client\n",
        "client = Groq(api_key=os.environ.get(\"GROQ_API_KEY\"))\n",
        "\n",
        "# Function to interact with Groq API\n",
        "def chat_with_groq(user_message):\n",
        "    chat_completion = client.chat.completions.create(\n",
        "        messages=[\n",
        "            {\"role\": \"system\", \"content\": \"Format your response using headings when applicable.\"},\n",
        "            {\"role\": \"user\", \"content\": user_message}\n",
        "        ],\n",
        "        model=\"llama3-70b-8192\",\n",
        "        stream=False\n",
        "    )\n",
        "    return chat_completion.choices[0].message.content\n",
        "\n",
        "# Gradio Blocks layout\n",
        "with gr.Blocks() as iface:\n",
        "    gr.HTML(\"<div style='text-align: center; margin-top: 30px; font-weight: bold; font-size: 32px;'>GenAI-ChatBot</div>\")\n",
        "\n",
        "    gr.Markdown(\"### Developer: M. Shahjhan Gondal  \\n📧 shahjhangondal99@gmail.com\")\n",
        "\n",
        "    user_input = gr.Textbox(label=\"Enter your message\", placeholder=\"Type your question here...\")\n",
        "\n",
        "    with gr.Row():\n",
        "        submit_btn = gr.Button(\"Submit\", variant=\"primary\")\n",
        "        clear_btn = gr.Button(\"Clear\")\n",
        "\n",
        "    output = gr.Textbox(label=\"Chatbot Response\")\n",
        "\n",
        "    # Events\n",
        "    submit_btn.click(fn=chat_with_groq, inputs=user_input, outputs=output)\n",
        "    clear_btn.click(fn=lambda: (\"\", \"\"), inputs=None, outputs=[user_input, output])\n",
        "\n",
        "    gr.HTML(\"<div style='text-align: center; margin-top: 30px; font-weight: bold;'>AI chatbot using by Groq API...</div>\")\n",
        "\n",
        "# Launch app\n",
        "iface.launch()\n"
      ]
    }
  ],
  "metadata": {
    "accelerator": "GPU",
    "colab": {
      "gpuType": "T4",
      "provenance": []
    },
    "kernelspec": {
      "display_name": "Python 3",
      "name": "python3"
    },
    "language_info": {
      "name": "python"
    }
  },
  "nbformat": 4,
  "nbformat_minor": 0
}
